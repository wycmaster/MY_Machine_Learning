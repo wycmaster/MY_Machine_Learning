{
 "cells": [
  {
   "cell_type": "code",
   "execution_count": 104,
   "metadata": {},
   "outputs": [],
   "source": [
    "import pandas as pd\n",
    "import logging\n",
    "import numpy as np\n",
    "import sys\n",
    "import matplotlib.pyplot as plt\n",
    "from sklearn.model_selection import train_test_split"
   ]
  },
  {
   "cell_type": "markdown",
   "metadata": {},
   "source": [
    "## Q2.1: Normalization"
   ]
  },
  {
   "cell_type": "code",
   "execution_count": 118,
   "metadata": {},
   "outputs": [],
   "source": [
    "def feature_normalization(train,test):\n",
    "    \n",
    "    \"\"\"Rescale the data so that each feature in the training set is in\n",
    "    the interval [0,1], and apply the same transformations to the test\n",
    "    set, using the statistics computed on the training set.\n",
    "\n",
    "    Returns:\n",
    "        train_normalized - training set after normalization\n",
    "        test_normalized  - test set after normalization\n",
    "\n",
    "    \"\"\"\n",
    "    # TODO\n",
    "    train_max = train.max(0)\n",
    "    train_min = train.min(0)\n",
    "    train_normalized = (train - train_min)/(train_max - train_min)\n",
    "    test_normalized = (test - train_min)/(train_max - train_min)\n",
    "    return train_normalized, test_normalized"
   ]
  },
  {
   "cell_type": "markdown",
   "metadata": {},
   "source": [
    "## Q2.2a: The square loss function"
   ]
  },
  {
   "cell_type": "markdown",
   "metadata": {},
   "source": [
    "$J=\\frac{1}{2m} \\cdot (X \\cdot \\theta - y) \\cdot (X \\cdot \\theta - y)^T$"
   ]
  },
  {
   "cell_type": "code",
   "execution_count": 74,
   "metadata": {},
   "outputs": [],
   "source": [
    "def compute_square_loss(X, y, theta):\n",
    "    \"\"\"\n",
    "    Given a set of X, y, theta, compute the square loss for predicting y with X*theta\n",
    "    \n",
    "    Args:\n",
    "        X - the feature vector, 2D numpy array of size (num_instances, num_features)\n",
    "        y - the label vector, 1D numpy array of size (num_instances)\n",
    "        theta - the parameter vector, 1D array of size (num_features)\n",
    "    \n",
    "    Returns:\n",
    "        loss - the square loss, scalar\n",
    "    \"\"\"\n",
    "    loss = 0 #initialize the square_loss\n",
    "    #TODO\n",
    "    residual = np.dot(X, theta)-y\n",
    "    residual2 = residual**2\n",
    "    loss = np.sum(residual2)/(2*X.shape[0])\n",
    "    return loss"
   ]
  },
  {
   "cell_type": "markdown",
   "metadata": {},
   "source": [
    "## Q2.2b: compute the gradient of square loss function"
   ]
  },
  {
   "cell_type": "code",
   "execution_count": 58,
   "metadata": {},
   "outputs": [],
   "source": [
    "### compute the gradient of square loss function\n",
    "def compute_square_loss_gradient(X, y, theta):\n",
    "    \"\"\"Compute gradient of the square loss (as defined in compute_square_loss), at the point theta.\n",
    "    \n",
    "    Args:\n",
    "        X - the feature vector, 2D numpy array of size (num_instances, num_features)\n",
    "        y - the label vector, 1D numpy array of size (num_instances)\n",
    "        theta - the parameter vector, 1D numpy array of size (num_features)\n",
    "    \n",
    "    Returns:\n",
    "        grad - gradient vector, 1D numpy array of size (num_features)\n",
    "    \"\"\"\n",
    "    #TODO\n",
    "    grad = np.zeros(X.shape[1])\n",
    "    grad = np.dot(X.T, np.dot(X,theta)-y)/X.shape[0]\n",
    "    return grad"
   ]
  },
  {
   "cell_type": "code",
   "execution_count": 70,
   "metadata": {},
   "outputs": [
    {
     "data": {
      "text/plain": [
       "array([18.33333333, 24.        , 21.66666667])"
      ]
     },
     "execution_count": 70,
     "metadata": {},
     "output_type": "execute_result"
    }
   ],
   "source": [
    "X=np.array([[2,3,4],[1,2,1],[4,5,4]])\n",
    "y=np.array([4,3,2])\n",
    "theta=np.array([1,1,1])\n",
    "compute_square_loss_gradient(X,y,theta)"
   ]
  },
  {
   "cell_type": "markdown",
   "metadata": {},
   "source": [
    "## 2.3 Gradient Checker"
   ]
  },
  {
   "cell_type": "code",
   "execution_count": 75,
   "metadata": {},
   "outputs": [],
   "source": [
    "### Gradient Checker\n",
    "#Getting the gradient calculation correct is often the trickiest part\n",
    "#of any gradient-based optimization algorithm.  Fortunately, it's very\n",
    "#easy to check that the gradient calculation is correct using the\n",
    "#definition of gradient.\n",
    "#See http://ufldl.stanford.edu/wiki/index.php/Gradient_checking_and_advanced_optimization\n",
    "def grad_checker(X, y, theta, epsilon=0.01, tolerance=1e-4): \n",
    "    \"\"\"Implement Gradient Checker\n",
    "    Check that the function compute_square_loss_gradient returns the\n",
    "    correct gradient for the given X, y, and theta.\n",
    "\n",
    "    Let d be the number of features. Here we numerically estimate the\n",
    "    gradient by approximating the directional derivative in each of\n",
    "    the d coordinate directions: \n",
    "    (e_1 = (1,0,0,...,0), e_2 = (0,1,0,...,0), ..., e_d = (0,...,0,1) \n",
    "\n",
    "    The approximation for the directional derivative of J at the point\n",
    "    theta in the direction e_i is given by: \n",
    "    ( J(theta + epsilon * e_i) - J(theta - epsilon * e_i) ) / (2*epsilon).\n",
    "\n",
    "    We then look at the Euclidean distance between the gradient\n",
    "    computed using this approximation and the gradient computed by\n",
    "    compute_square_loss_gradient(X, y, theta).  If the Euclidean\n",
    "    distance exceeds tolerance, we say the gradient is incorrect.\n",
    "\n",
    "    Args:\n",
    "        X - the feature vector, 2D numpy array of size (num_instances, num_features)\n",
    "        y - the label vector, 1D numpy array of size (num_instances)\n",
    "        theta - the parameter vector, 1D numpy array of size (num_features)\n",
    "        epsilon - the epsilon used in approximation\n",
    "        tolerance - the tolerance error\n",
    "    \n",
    "    Return:\n",
    "        A boolean value indicate whether the gradient is correct or not\n",
    "\n",
    "    \"\"\"\n",
    "    true_gradient = compute_square_loss_gradient(X, y, theta) #the true gradient\n",
    "    num_features = theta.shape[0]\n",
    "    approx_grad = np.zeros(num_features) #Initialize the gradient we approximate\n",
    "    #TODO\n",
    "    coor_vector = np.diag(np.ones(num_features))\n",
    "    for i in range(num_features):\n",
    "        print(coor_vector[i])\n",
    "        diff = compute_square_loss(X, y, theta+epsilon*coor_vector[i])-compute_square_loss(X, y, theta-epsilon*coor_vector[i])\n",
    "        euclidean_dist = diff/(2*epsilon)\n",
    "        approx_grad[i] = euclidean_dist\n",
    "    \n",
    "    sum_of_square = np.sum((true_gradient - approx_grad)**2)\n",
    "    eclid = np.sqrt(sum_of_square)\n",
    "    if eclid <= tolerance:\n",
    "        return True\n",
    "    else:\n",
    "        return False\n",
    "    "
   ]
  },
  {
   "cell_type": "code",
   "execution_count": 87,
   "metadata": {},
   "outputs": [
    {
     "name": "stdout",
     "output_type": "stream",
     "text": [
      "[1. 0. 0.]\n",
      "[0. 1. 0.]\n",
      "[0. 0. 1.]\n"
     ]
    },
    {
     "data": {
      "text/plain": [
       "True"
      ]
     },
     "execution_count": 87,
     "metadata": {},
     "output_type": "execute_result"
    }
   ],
   "source": [
    "grad_checker(X, y, theta, epsilon=0.01, tolerance=1e-4)"
   ]
  },
  {
   "cell_type": "markdown",
   "metadata": {},
   "source": [
    "## 2.4 Batch Gradient Descent"
   ]
  },
  {
   "cell_type": "code",
   "execution_count": 165,
   "metadata": {},
   "outputs": [
    {
     "name": "stdout",
     "output_type": "stream",
     "text": [
      "(200, 48)\n",
      "normalization\n"
     ]
    }
   ],
   "source": [
    "# loading datasets\n",
    "df = pd.read_csv(r'/Users/chenwangyang/Downloads/hw1-sgd/hw1-data.csv')\n",
    "X = df.values[:,:-1]\n",
    "y = df.values[:,-1]\n",
    "\n",
    "X_train, X_test, y_train, y_test = train_test_split(X, y, test_size =100, random_state=10)\n",
    "print(X.shape)\n",
    "print(\"normalization\")\n",
    "X_train, X_test = feature_normalization(X_train, X_test)\n",
    "X_train = np.hstack((X_train, np.ones((X_train.shape[0],1))))  # add bias term\n",
    "X_test = np.hstack((X_test, np.ones((X_test.shape[0],1))))  # add bias term\n",
    "\n",
    "def batch_grad_descent(X, y, alpha=0.1, num_iter=1000, check_gradient=False):\n",
    "    \"\"\"\n",
    "    In this question you will implement batch gradient descent to\n",
    "    minimize the square loss objective\n",
    "    \n",
    "    Args:\n",
    "        X - the feature vector, 2D numpy array of size (num_instances, num_features)\n",
    "        y - the label vector, 1D numpy array of size (num_instances)\n",
    "        alpha - step size in gradient descent\n",
    "        num_iter - number of iterations to run \n",
    "        check_gradient - a boolean value indicating whether checking the gradient when updating\n",
    "    Returns:\n",
    "        theta_hi- store the the history of parameter vector in iteration, 2D numpy array of size (num_iter+1, num_features) \n",
    "                    for instance, theta in iteration 0 should be theta_hist[0], theta in ieration (num_iter) is theta_hist[-1]\n",
    "        loss_hist - the history of objective function vector, 1D numpy array of size (num_iter+1) \n",
    "    \"\"\"\n",
    "    num_instances, num_features = X.shape[0], X.shape[1]\n",
    "    theta_hist = np.zeros((num_iter+1, num_features))  #Initialize theta_hist\n",
    "    loss_hist = np.zeros(num_iter+1) #initialize loss_hist\n",
    "    theta = np.ones(num_features) #initialize theta\n",
    "    #TODO\n",
    "    theta_hist[0] = theta\n",
    "    loss_hist[0] = compute_square_loss(X, y, theta_hist[0])\n",
    "    for i in range(1, num_iter+1):\n",
    "        grad = compute_square_loss_gradient(X, y, theta_hist[i-1])\n",
    "        theta_hist[i] = theta_hist[i-1] - alpha*grad\n",
    "        loss_hist[i] = compute_square_loss(X, y, theta_hist[i])\n",
    "    return theta_hist, loss_hist\n",
    "    \n",
    "    "
   ]
  },
  {
   "cell_type": "code",
   "execution_count": 159,
   "metadata": {},
   "outputs": [
    {
     "name": "stderr",
     "output_type": "stream",
     "text": [
      "/opt/anaconda3/lib/python3.7/site-packages/ipykernel_launcher.py:16: RuntimeWarning: overflow encountered in square\n",
      "  app.launch_new_instance()\n"
     ]
    },
    {
     "data": {
      "image/png": "[encoded data removed]",
      "text/plain": [
       "<Figure size 432x288 with 1 Axes>"
      ]
     },
     "metadata": {
      "needs_background": "light"
     },
     "output_type": "display_data"
    }
   ],
   "source": [
    "import matplotlib.pyplot as plt\n",
    "a1, b1 = batch_grad_descent(X_train, y_train, alpha=0.5, num_iter=1000, check_gradient=False)\n",
    "a2, b2 = batch_grad_descent(X_train, y_train, alpha=0.1, num_iter=1000, check_gradient=False)\n",
    "a3, b3 = batch_grad_descent(X_train, y_train, alpha=0.05, num_iter=1000, check_gradient=False)\n",
    "a4, b4 = batch_grad_descent(X_train, y_train, alpha=0.01, num_iter=1000, check_gradient=False)\n",
    "x = list(range(100))\n",
    "plt.plot(x, b2[0:100])\n",
    "plt.plot(x, b3[0:100])\n",
    "plt.plot(x, b4[0:100])\n",
    "plt.legend(['alpha=0.1', 'alpha=0.05', 'alpha=0.01'], loc='upper right')\n",
    "plt.show()"
   ]
  },
  {
   "cell_type": "code",
   "execution_count": 267,
   "metadata": {},
   "outputs": [
    {
     "data": {
      "text/plain": [
       "array([-0.17399919,  0.00192546,  0.10722577,  0.13974512, -0.06916799,\n",
       "       -0.04989158, -0.03441772, -0.03441772,  0.0743133 ,  0.16812988,\n",
       "        0.19520821,  0.03915749, -0.12613597, -0.2226354 ,  0.19329246,\n",
       "        0.24887605,  0.20303474,  0.04475822, -0.01641682, -0.01641682,\n",
       "       -0.01641682,  0.00915056,  0.00915056,  0.00915056,  0.01787128,\n",
       "        0.01787128,  0.01787128,  0.02189118,  0.02189118,  0.02189118,\n",
       "        0.02411513,  0.02411513,  0.02411513,  0.04130776,  0.04130776,\n",
       "        0.04130776,  0.05223941,  0.05223941,  0.05223941,  0.0426691 ,\n",
       "        0.0426691 ,  0.0426691 ,  0.03822655,  0.03822655,  0.03822655,\n",
       "        0.0357577 ,  0.0357577 ,  0.0357577 , -0.22340526])"
      ]
     },
     "execution_count": 267,
     "metadata": {},
     "output_type": "execute_result"
    }
   ],
   "source": [
    "a1[-1][-1]"
   ]
  },
  {
   "cell_type": "code",
   "execution_count": 269,
   "metadata": {},
   "outputs": [
    {
     "ename": "NameError",
     "evalue": "name 'theta_hist' is not defined",
     "output_type": "error",
     "traceback": [
      "\u001b[0;31m---------------------------------------------------------------------------\u001b[0m",
      "\u001b[0;31mNameError\u001b[0m                                 Traceback (most recent call last)",
      "\u001b[0;32m<ipython-input-269-b353031b0174>\u001b[0m in \u001b[0;36m<module>\u001b[0;34m\u001b[0m\n\u001b[1;32m      1\u001b[0m \u001b[0;32mfrom\u001b[0m \u001b[0mscipy\u001b[0m\u001b[0;34m.\u001b[0m\u001b[0moptimize\u001b[0m \u001b[0;32mimport\u001b[0m \u001b[0mminimize\u001b[0m\u001b[0;34m\u001b[0m\u001b[0;34m\u001b[0m\u001b[0m\n\u001b[0;32m----> 2\u001b[0;31m \u001b[0mw_opt\u001b[0m \u001b[0;34m=\u001b[0m \u001b[0mminimize\u001b[0m\u001b[0;34m(\u001b[0m\u001b[0mcompute_square_loss\u001b[0m\u001b[0;34m(\u001b[0m\u001b[0mX\u001b[0m\u001b[0;34m,\u001b[0m \u001b[0my\u001b[0m\u001b[0;34m,\u001b[0m \u001b[0mtheta_hist\u001b[0m\u001b[0;34m[\u001b[0m\u001b[0;36m0\u001b[0m\u001b[0;34m]\u001b[0m\u001b[0;34m)\u001b[0m\u001b[0;34m,\u001b[0m \u001b[0mnp\u001b[0m\u001b[0;34m.\u001b[0m\u001b[0mones\u001b[0m\u001b[0;34m(\u001b[0m\u001b[0mX\u001b[0m\u001b[0;34m.\u001b[0m\u001b[0mshape\u001b[0m\u001b[0;34m[\u001b[0m\u001b[0;36m1\u001b[0m\u001b[0;34m]\u001b[0m\u001b[0;34m)\u001b[0m\u001b[0;34m)\u001b[0m\u001b[0;34m\u001b[0m\u001b[0;34m\u001b[0m\u001b[0m\n\u001b[0m",
      "\u001b[0;31mNameError\u001b[0m: name 'theta_hist' is not defined"
     ]
    }
   ],
   "source": [
    "from scipy.optimize import minimize\n",
    "w_opt = minimize(compute_square_loss(X, y, theta_hist[0]), np.ones(X.shape[1]))"
   ]
  },
  {
   "cell_type": "markdown",
   "metadata": {},
   "source": [
    "## 2.5 Ridge Regression"
   ]
  },
  {
   "cell_type": "code",
   "execution_count": 224,
   "metadata": {},
   "outputs": [],
   "source": [
    "### Compute the gradient of Regularized Batch Gradient Descent\n",
    "def compute_regularized_square_loss_gradient(X, y, theta, lambda_reg):\n",
    "    \"\"\"\n",
    "    Compute the gradient of L2-regularized square loss function given X, y and theta\n",
    "    \n",
    "    Args:\n",
    "        X - the feature vector, 2D numpy array of size (num_instances, num_features)\n",
    "        y - the label vector, 1D numpy array of size (num_instances)\n",
    "        theta - the parameter vector, 1D numpy array of size (num_features)\n",
    "        lambda_reg - the regularization coefficient\n",
    "    \n",
    "    Returns:\n",
    "        grad - gradient vector, 1D numpy array of size (num_features)\n",
    "    \"\"\"\n",
    "    #TODO\n",
    "    grad = np.zeros(X.shape[1])\n",
    "    grad = np.dot(X.T, np.dot(X, theta)-y)/X.shape[0] +2*lambda_reg*theta\n",
    "    return grad"
   ]
  },
  {
   "cell_type": "code",
   "execution_count": 171,
   "metadata": {},
   "outputs": [
    {
     "data": {
      "text/plain": [
       "array([10.09643067, 11.6529978 , 12.88129932, 13.42033071, 15.00509391,\n",
       "       15.37012083, 15.5450657 , 15.52373192, 15.21836042, 14.53409172,\n",
       "       13.75158815, 13.06224432, 11.82000679, 10.8263714 ,  8.50582589,\n",
       "        7.20927954,  4.69027643,  1.78929913, 12.90726225, 12.90726225,\n",
       "       63.73631127, 12.90523907, 12.90523907, 63.72619534, 11.67629633,\n",
       "       11.67629633, 57.58148164, 10.3896644 , 10.3896644 , 51.14832201,\n",
       "        9.26724536,  9.26724536, 45.53622681,  0.68480704,  0.68480704,\n",
       "        2.62403519,  2.17295966,  2.17295966, 10.06479832,  2.45642428,\n",
       "        2.45642428, 11.48212139,  2.40671371,  2.40671371, 11.23356855,\n",
       "        2.26599985,  2.26599985, 10.52999927])"
      ]
     },
     "execution_count": 171,
     "metadata": {},
     "output_type": "execute_result"
    }
   ],
   "source": [
    "compute_regularized_square_loss_gradient(X, y, theta=np.ones(X.shape[1]), lambda_reg=0.1)"
   ]
  },
  {
   "cell_type": "code",
   "execution_count": 179,
   "metadata": {},
   "outputs": [],
   "source": [
    "### Batch Gradient Descent with regularization term\n",
    "def regularized_grad_descent(X, y, alpha=0.1, lambda_reg=1, num_iter=1000):\n",
    "    \"\"\"\n",
    "    Args:\n",
    "        X - the feature vector, 2D numpy array of size (num_instances, num_features)\n",
    "        y - the label vector, 1D numpy array of size (num_instances)\n",
    "        alpha - step size in gradient descent\n",
    "        lambda_reg - the regularization coefficient\n",
    "        numIter - number of iterations to run \n",
    "        \n",
    "    Returns:\n",
    "        theta_hist - the history of parameter vector, 2D numpy array of size (num_iter+1, num_features) \n",
    "        loss_hist - the history of regularized loss value, 1D numpy array\n",
    "    \"\"\"\n",
    "    (num_instances, num_features) = X.shape\n",
    "    theta = np.ones(num_features) #Initialize theta\n",
    "    theta_hist = np.zeros((num_iter+1, num_features))  #Initialize theta_hist\n",
    "    loss_hist = np.zeros(num_iter+1) #Initialize loss_hist\n",
    "    #TODO\n",
    "    theta_hist[0] = theta\n",
    "    loss_hist[0] = compute_square_loss(X, y, theta_hist[0]) + lambda_reg*np.dot(theta_hist[0].T,theta_hist[0])\n",
    "    for i in range(1, num_iter+1):\n",
    "        theta_hist[i] = theta_hist[i-1] - alpha*compute_regularized_square_loss_gradient(X, y, theta_hist[i-1], lambda_reg)\n",
    "        loss_hist[i] = compute_square_loss(X, y, theta_hist[i]) + lambda_reg*np.dot(theta_hist[i].T,theta_hist[i])\n",
    "    return theta_hist, loss_hist"
   ]
  },
  {
   "cell_type": "code",
   "execution_count": 180,
   "metadata": {},
   "outputs": [
    {
     "name": "stderr",
     "output_type": "stream",
     "text": [
      "/opt/anaconda3/lib/python3.7/site-packages/ipykernel_launcher.py:16: RuntimeWarning: overflow encountered in square\n",
      "  app.launch_new_instance()\n",
      "/opt/anaconda3/lib/python3.7/site-packages/ipykernel_launcher.py:24: RuntimeWarning: overflow encountered in double_scalars\n"
     ]
    }
   ],
   "source": [
    "# train the model with training data\n",
    "loss_train = []\n",
    "theta_train = []\n",
    "labda = [10**(-7),10**(-5),10**(-3),0.1,1,10]\n",
    "for l in labda:\n",
    "    theta, loss = regularized_grad_descent(X_train, y_train, alpha=0.1, lambda_reg=l, num_iter=1000)\n",
    "    index = np.argmin(loss)\n",
    "    loss_train.append(loss[index])\n",
    "    theta_train.append(theta[index])"
   ]
  },
  {
   "cell_type": "code",
   "execution_count": 190,
   "metadata": {},
   "outputs": [],
   "source": [
    "# fit the model with testing data\n",
    "loss_test = []\n",
    "for i in range(len(loss_train)):\n",
    "    loss_test.append(compute_square_loss(X_test, y_test, theta_train[i])+labda[i]*np.dot(theta_train[i].T,theta_train[i]))"
   ]
  },
  {
   "cell_type": "code",
   "execution_count": 197,
   "metadata": {},
   "outputs": [
    {
     "data": {
      "image/png": "[encoded data removed]",
      "text/plain": [
       "<Figure size 432x288 with 1 Axes>"
      ]
     },
     "metadata": {
      "needs_background": "light"
     },
     "output_type": "display_data"
    }
   ],
   "source": [
    "x = np.log10(labda)\n",
    "plt.plot(x, loss_train)\n",
    "plt.plot(x, loss_test)\n",
    "\n",
    "plt.legend(['train data','test data'],loc = 'upper right')\n",
    "plt.show()"
   ]
  },
  {
   "cell_type": "code",
   "execution_count": 204,
   "metadata": {},
   "outputs": [
    {
     "data": {
      "image/png": "[encoded data removed]",
      "text/plain": [
       "<Figure size 432x288 with 1 Axes>"
      ]
     },
     "metadata": {
      "needs_background": "light"
     },
     "output_type": "display_data"
    }
   ],
   "source": [
    "# zoom in\n",
    "loss_train = []\n",
    "theta_train = []\n",
    "loss_test = []\n",
    "labda = np.linspace(10**-5,10**-1.5,200)\n",
    "for l in labda:\n",
    "    theta, loss = regularized_grad_descent(X_train, y_train, alpha=0.1, lambda_reg=l, num_iter=1000)\n",
    "    index = np.argmin(loss)\n",
    "    loss_train.append(loss[index])\n",
    "    theta_train.append(theta[index])\n",
    "\n",
    "for i in range(len(loss_train)):\n",
    "    loss_test.append(compute_square_loss(X_test, y_test, theta_train[i])+labda[i]*np.dot(theta_train[i].T,theta_train[i]))\n",
    "\n",
    "x = np.log10(labda)\n",
    "plt.plot(x, loss_train)\n",
    "plt.plot(x, loss_test)\n",
    "\n",
    "plt.legend(['train data','test data'],loc = 'upper right')\n",
    "plt.show()"
   ]
  },
  {
   "cell_type": "code",
   "execution_count": 206,
   "metadata": {},
   "outputs": [
    {
     "name": "stdout",
     "output_type": "stream",
     "text": [
      "The best lambda is \n",
      "1e-05\n"
     ]
    },
    {
     "data": {
      "text/plain": [
       "array([-1.57727835,  0.62982923,  1.41852151,  3.79013739, -3.12883397,\n",
       "       -0.47206517, -1.00012668, -1.00012668,  1.27592076,  1.44982316,\n",
       "        3.8231875 , -1.22530963, -0.69438931, -5.38323726,  1.89947522,\n",
       "        3.4500238 ,  1.1868606 ,  0.69596208,  0.02134501,  0.02134501,\n",
       "        0.02134501, -0.06625788, -0.06625788, -0.06625788, -0.04228965,\n",
       "       -0.04228965, -0.04228965, -0.02968369, -0.02968369, -0.02968369,\n",
       "       -0.02221293, -0.02221293, -0.02221293, -0.17860923, -0.17860923,\n",
       "       -0.17860923, -0.012776  , -0.012776  , -0.012776  , -0.0087915 ,\n",
       "       -0.0087915 , -0.0087915 , -0.00666629, -0.00666629, -0.00666629,\n",
       "       -0.00540459, -0.00540459, -0.00540459, -1.18295573])"
      ]
     },
     "execution_count": 206,
     "metadata": {},
     "output_type": "execute_result"
    }
   ],
   "source": [
    "# Find the best theta\n",
    "print(\"The best lambda is \")\n",
    "print(labda[np.argmin(loss_test)])\n",
    "theta_train[np.argmin(loss_test)]"
   ]
  },
  {
   "cell_type": "markdown",
   "metadata": {},
   "source": [
    "## 2.6 Stochastic Gradient Descent"
   ]
  },
  {
   "cell_type": "code",
   "execution_count": 249,
   "metadata": {},
   "outputs": [],
   "source": [
    "### Stochastic Gradient Descent\n",
    "def stochastic_grad_descent(X, y, alpha=0.1, lambda_reg=1, num_iter=1000):\n",
    "    \"\"\"\n",
    "    In this question you will implement stochastic gradient descent with a regularization term\n",
    "    \n",
    "    Args:\n",
    "        X - the feature vector, 2D numpy array of size (num_instances, num_features)\n",
    "        y - the label vector, 1D numpy array of size (num_instances)\n",
    "        alpha - string or float. step size in gradient descent\n",
    "                NOTE: In SGD, it's not always a good idea to use a fixed step size. Usually it's set to 1/sqrt(t) or 1/t\n",
    "                if alpha is a float, then the step size in every iteration is alpha.\n",
    "                if alpha == \"1/sqrt(t)\", alpha = 1/sqrt(t)\n",
    "                if alpha == \"1/t\", alpha = 1/t\n",
    "        lambda_reg - the regularization coefficient\n",
    "        num_iter - number of epochs (i.e number of times) to go through the whole training set\n",
    "    \n",
    "    Returns:\n",
    "        theta_hist - the history of parameter vector, 3D numpy array of size (num_iter, num_instances, num_features) \n",
    "        loss hist - the history of regularized loss function vector, 2D numpy array of size(num_iter, num_instances)\n",
    "    \"\"\"\n",
    "    num_instances, num_features = X.shape[0], X.shape[1]\n",
    "    theta = np.ones(num_features) #Initialize theta\n",
    "    theta_hist = np.zeros((num_iter, num_instances, num_features))  #Initialize theta_hist\n",
    "    loss_hist = np.zeros((num_iter, num_instances)) #Initialize loss_hist\n",
    "    \n",
    "    #TODO\n",
    "    arr = np.arange(num_instances)\n",
    "    t = 1\n",
    "    for iteration in range(num_iter):\n",
    "        np.random.shuffle(arr)\n",
    "        for i in range(num_instances):\n",
    "            theta_hist[iteration][i] = theta\n",
    "            loss_hist[iteration][i] = compute_square_loss(X, y, theta) + lambda_reg*np.dot(theta.T,theta)\n",
    "            if isinstance(alpha, float):\n",
    "                alpha_f = alpha\n",
    "            elif alpha == '1/sqrt(t)':\n",
    "                alpha_f = 1/t**0.5\n",
    "            elif alpha == '1/t':\n",
    "                alpha_f = 1/t\n",
    "            t=t+1\n",
    "            theta = theta - alpha_f * compute_regularized_square_loss_gradient(X[arr[i],:], y[arr[i]], theta, lambda_reg)\n",
    "    return theta_hist, loss_hist\n",
    "                \n"
   ]
  },
  {
   "cell_type": "code",
   "execution_count": 250,
   "metadata": {},
   "outputs": [
    {
     "name": "stdout",
     "output_type": "stream",
     "text": [
      "(200, 48)\n",
      "normalization\n"
     ]
    }
   ],
   "source": [
    "# loading datasets\n",
    "df = pd.read_csv(r'/Users/chenwangyang/Downloads/hw1-sgd/hw1-data.csv')\n",
    "X = df.values[:,:-1]\n",
    "y = df.values[:,-1]\n",
    "\n",
    "X_train, X_test, y_train, y_test = train_test_split(X, y, test_size =100, random_state=10)\n",
    "print(X.shape)\n",
    "print(\"normalization\")\n",
    "X_train, X_test = feature_normalization(X_train, X_test)\n",
    "X_train = np.hstack((X_train, np.ones((X_train.shape[0],1))))  # add bias term\n",
    "X_test = np.hstack((X_test, np.ones((X_test.shape[0],1))))  # add bias term"
   ]
  },
  {
   "cell_type": "code",
   "execution_count": 254,
   "metadata": {},
   "outputs": [
    {
     "data": {
      "image/png": "[encoded data removed]",
      "text/plain": [
       "<Figure size 432x288 with 1 Axes>"
      ]
     },
     "metadata": {
      "needs_background": "light"
     },
     "output_type": "display_data"
    }
   ],
   "source": [
    "# plot with different step size\n",
    "a1, b1 = stochastic_grad_descent(X_train, y_train, alpha=0.05, lambda_reg=0.01, num_iter=70)\n",
    "a2, b2 = stochastic_grad_descent(X_train, y_train, alpha=0.005, lambda_reg=0.01, num_iter=70)\n",
    "a3, b3 = stochastic_grad_descent(X_train, y_train, alpha='1/sqrt(t)', lambda_reg=0.01, num_iter=70)\n",
    "a4, b4 = stochastic_grad_descent(X_train, y_train, alpha='1/t', lambda_reg=0.01, num_iter=70)\n",
    "\n",
    "plt.plot(range(70), np.log10(b1[:,-1]))\n",
    "plt.plot(range(70), np.log10(b2[:,-1]))\n",
    "plt.plot(range(70), b3[:,-1])\n",
    "plt.plot(range(70), b4[:,-1])\n",
    "plt.legend(['0.05','0.005','1/sqrt(t)','1/t'], loc = 'upper right')\n",
    "plt.show()"
   ]
  },
  {
   "cell_type": "code",
   "execution_count": 257,
   "metadata": {},
   "outputs": [],
   "source": [
    "# calculate the amount of time\n",
    "import timeit\n",
    "import time\n",
    "def time_cal(X, y, alpha=0.1, lambda_reg=1, num_iter=1000):    \n",
    "    num_instances, num_features = X.shape[0], X.shape[1]\n",
    "    theta = np.ones(num_features) #Initialize theta\n",
    "    theta_hist = np.zeros((num_iter, num_instances, num_features))  #Initialize theta_hist\n",
    "    loss_hist = np.zeros((num_iter, num_instances)) #Initialize loss_hist\n",
    "    \n",
    "    #TODO\n",
    "    time_hist = np.zeros(num_iter)\n",
    "    arr = np.arange(num_instances)\n",
    "    t = 1\n",
    "    for iteration in range(num_iter):\n",
    "        np.random.shuffle(arr)\n",
    "        start = time.time()\n",
    "        for i in range(num_instances):\n",
    "            theta_hist[iteration][i] = theta\n",
    "            loss_hist[iteration][i] = compute_square_loss(X, y, theta) + lambda_reg*np.dot(theta.T,theta)\n",
    "            if isinstance(alpha, float):\n",
    "                alpha_f = alpha\n",
    "            elif alpha == '1/sqrt(t)':\n",
    "                alpha_f = 1/t**0.5\n",
    "            elif alpha == '1/t':\n",
    "                alpha_f = 1/t\n",
    "            t=t+1\n",
    "            theta = theta - alpha_f * compute_regularized_square_loss_gradient(X[arr[i],:], y[arr[i]], theta, lambda_reg)\n",
    "        stop = time.time()\n",
    "        time_hist[iteration] = stop - start\n",
    "    return time_hist.mean()"
   ]
  },
  {
   "cell_type": "code",
   "execution_count": 258,
   "metadata": {},
   "outputs": [
    {
     "name": "stdout",
     "output_type": "stream",
     "text": [
      "0.004672003746032715\n",
      "0.004580333232879639\n",
      "0.004681364059448242\n",
      "0.004649316787719727\n"
     ]
    }
   ],
   "source": [
    "for i in [0.05, 0.005, '1/sqrt(t)', '1/t']: \n",
    "    print(time_cal(X, y, alpha=i, lambda_reg=0.01, num_iter=1000))"
   ]
  },
  {
   "cell_type": "markdown",
   "metadata": {},
   "source": [
    "$= E[(a-E(y))^2+(E(y))^2+2(a-E(y)(E(y)-y))\\ =E(a-E(y))^2+E(E(y)-y)^2+2E(a-E(y))(E(y)-y))$\n"
   ]
  },
  {
   "cell_type": "markdown",
   "metadata": {},
   "source": [
    "$ = E[E(f(x)-y)^2|x] \\ = E[E(f(x)-E[y|x]+E[y|x]-y)^2|x] \\ = E[E(f(x)-E(y|x)^2)|x + E(E(y|x)-y)^2|x] + 2E(E(f(x)-E(y|x))(E[y|x]-y)|x) \\ = E(f(x)-E[y|x]^2) + E(E(y|x)-y)^2 $"
   ]
  },
  {
   "cell_type": "code",
   "execution_count": null,
   "metadata": {},
   "outputs": [],
   "source": []
  }
 ],
 "metadata": {
  "kernelspec": {
   "display_name": "Python 3",
   "language": "python",
   "name": "python3"
  },
  "language_info": {
   "codemirror_mode": {
    "name": "ipython",
    "version": 3
   },
   "file_extension": ".py",
   "mimetype": "text/x-python",
   "name": "python",
   "nbconvert_exporter": "python",
   "pygments_lexer": "ipython3",
   "version": "3.7.4"
  }
 },
 "nbformat": 4,
 "nbformat_minor": 2
}
