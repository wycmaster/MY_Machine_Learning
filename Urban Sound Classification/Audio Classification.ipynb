{
 "cells": [
  {
   "cell_type": "markdown",
   "metadata": {},
   "source": [
    "# Urban Sound Classification"
   ]
  },
  {
   "cell_type": "markdown",
   "metadata": {},
   "source": [
    "The aim of this project is to build up a classification model to distinguish different sound in urban context, which serves as a basis on further study on urban environment. The urban sound dataset is URBANSOUND8K from the Center for Urban Science and Progress (CUSP) at NYU (https://urbansounddataset.weebly.com/urbansound8k.html). \n",
    "\n",
    "This dataset contains 8732 labeled sound excerpts (<=4s) of urban sounds from 10 classes: air_conditioner, car_horn, children_playing, dog_bark, drilling, enginge_idling, gun_shot, jackhammer, siren, and street_music. \n",
    "\n",
    "In order to better understand involved machine learning algorithms(Linear Multiclass SVM, Kernelized Multiclass SVM), all the methods and algorithms are writen by ***numpy*** instead of ***sklearn***. "
   ]
  },
  {
   "cell_type": "markdown",
   "metadata": {},
   "source": [
    "## Load modules"
   ]
  },
  {
   "cell_type": "code",
   "execution_count": 217,
   "metadata": {},
   "outputs": [],
   "source": [
    "import numpy as np\n",
    "import os\n",
    "import matplotlib.pyplot as plt\n",
    "from scipy import stats\n",
    "from sklearn.base import BaseEstimator, ClassifierMixin\n",
    "%matplotlib inline\n",
    "\n",
    "# Librosa for audio\n",
    "import librosa\n",
    "# And the display module for visualization\n",
    "import librosa.display"
   ]
  },
  {
   "cell_type": "markdown",
   "metadata": {},
   "source": [
    "## 1. Multiclass linear SVM"
   ]
  },
  {
   "cell_type": "markdown",
   "metadata": {},
   "source": [
    "First, I will try a multiclass linear SVM to conduct the classification.\n",
    "\n",
    "Mel-Frequency Cepstral Coefficients (MFCC) is used to extract features from the audio records. It can be calculated by the module ***librosa***.\n",
    "\n",
    "Use the first 25 MFCC's summary statistics (minimum, maximum, me- dian, mean, variance, skewness, kurtosis and the mean and variance of the first and second derivatives) to form the inputs X."
   ]
  },
  {
   "cell_type": "code",
   "execution_count": 227,
   "metadata": {},
   "outputs": [],
   "source": [
    "def mel_feacture_generator(y, sr, n_mfcc = 25):\n",
    "    '''\n",
    "    Calculate Mel-Frequency Cepstral Coefficients (MFCC) for certian audio record.\n",
    "    Generate summary statistics and finally get a feature vector of 275 dimensions.\n",
    "    '''\n",
    "    \n",
    "    # Extract the top n_mfcc Mel-frequency cepstral coefficients (MFCCs)\n",
    "    mfcc = librosa.feature.mfcc(y=y, sr=sr, n_mfcc=n_mfcc)\n",
    "\n",
    "    # Generate summary statistics for the 25 coefficents\n",
    "    ## minimum\n",
    "    mfcc_min = mfcc.min(axis = 1)\n",
    "    ## maximum\n",
    "    mfcc_max = mfcc.max(axis = 1)\n",
    "    ## median\n",
    "    mfcc_med = np.median(mfcc, axis = 1)\n",
    "    ## mean\n",
    "    mfcc_mean = mfcc.mean(axis = 1)\n",
    "    ## variance\n",
    "    mfcc_var = mfcc.var(axis = 1)\n",
    "    ## skewness\n",
    "    mfcc_skew = stats.skew(mfcc, axis = 1)\n",
    "    ## kurtosis\n",
    "    mfcc_kur = stats.kurtosis(mfcc, axis = 1)\n",
    "    ## mean of first derivatives\n",
    "    delta_mfcc  = librosa.feature.delta(mfcc)\n",
    "    mfcc_d1_mean = delta_mfcc.mean(axis = 1)\n",
    "    ## variance of first derivatives\n",
    "    mfcc_d1_var = delta_mfcc.var(axis = 1)\n",
    "    ## mean of second derivatives\n",
    "    delta2_mfcc  = librosa.feature.delta(mfcc, order=2)\n",
    "    mfcc_d2_mean = delta2_mfcc.mean(axis = 1)\n",
    "    ## variance of second derivatives\n",
    "    mfcc_d2_var = delta2_mfcc.var(axis = 1)\n",
    "\n",
    "    # stack features together\n",
    "    M = np.concatenate([mfcc_min, mfcc_max, mfcc_med, mfcc_mean, mfcc_var, mfcc_skew, mfcc_kur, mfcc_d1_mean,\n",
    "                        mfcc_d1_var, mfcc_d2_mean, mfcc_d2_var])\n",
    "    \n",
    "    return M"
   ]
  },
  {
   "cell_type": "code",
   "execution_count": 267,
   "metadata": {},
   "outputs": [],
   "source": [
    "'''\n",
    "    Load audio records from folders without foldi. Use foldi as validation set.\n",
    "    Would take a long time for running this function.\n",
    "'''\n",
    "def load_witout_i(i):\n",
    "    data_path = \"/Users/chenwangyang/NYU Machine Learning/UrbanSound8K/audio\"\n",
    "    filelist = os.listdir(data_path)\n",
    "    filelist.remove('.DS_Store')\n",
    "    filelist.remove('fold{}'.format(i))\n",
    "    filelist.sort()\n",
    "    class_list = []\n",
    "    y_list = []\n",
    "    sr_list = []\n",
    "    \n",
    "    for fold in filelist:\n",
    "        fold_path = os.path.join(data_path,fold)\n",
    "        fold_filelist = os.listdir(fold_path)\n",
    "        fold_filelist.sort()  \n",
    "        for audio in fold_filelist:\n",
    "            try:\n",
    "                if audio == '.DS_Store':\n",
    "                    continue\n",
    "                else:\n",
    "                    class_index = audio.find('-')+1\n",
    "                    class_list.append(int(audio[class_index]))\n",
    "                    audio_path = os.path.join(fold_path,audio)\n",
    "                    y, sr = librosa.load(audio_path)\n",
    "                    y_list.append(y)\n",
    "                    sr_list.append(sr)\n",
    "            except:\n",
    "                continue\n",
    "    return y_list, sr_list, class_list"
   ]
  },
  {
   "cell_type": "code",
   "execution_count": 268,
   "metadata": {},
   "outputs": [],
   "source": [
    "# Load audio records from a single folder\n",
    "def load_i(i):\n",
    "    data_path = \"/Users/chenwangyang/NYU Machine Learning/UrbanSound8K/audio/fold{}\".format(i)\n",
    "    filelist = os.listdir(data_path)\n",
    "    class_list = []\n",
    "    y_list = []\n",
    "    sr_list = []\n",
    "    for audio in filelist:\n",
    "        try:\n",
    "            if audio == '.DS_Store':\n",
    "                continue\n",
    "            else:\n",
    "                class_index = audio.find('-')+1\n",
    "                class_list.append(int(audio[class_index]))\n",
    "                audio_path = os.path.join(data_path,audio)\n",
    "                y, sr = librosa.load(audio_path)\n",
    "                y_list.append(y)\n",
    "                sr_list.append(sr)\n",
    "        except:\n",
    "            continue\n",
    "    return y_list, sr_list, class_list"
   ]
  },
  {
   "cell_type": "markdown",
   "metadata": {},
   "source": [
    "Test the algorithm with setting fold10 as validation set. Load data."
   ]
  },
  {
   "cell_type": "code",
   "execution_count": 324,
   "metadata": {
    "scrolled": true
   },
   "outputs": [],
   "source": [
    "# Generate training set X_train and y_train\n",
    "y_list, sr_list, class_list = load_witout_i(10)\n",
    "X_train = np.zeros((len(y_list), 275))\n",
    "for i, (y, sr) in enumerate(zip(y_list, sr_list)):\n",
    "    try:\n",
    "        X_train[i] = mel_feacture_generator(y, sr, n_mfcc = 25)\n",
    "    except:\n",
    "        continue\n",
    "        \n",
    "y_train = np.array(class_list).reshape(-1,1)"
   ]
  },
  {
   "cell_type": "code",
   "execution_count": 325,
   "metadata": {},
   "outputs": [],
   "source": [
    "# Generate validation set X_test and y_test\n",
    "y_list, sr_list, class_list = load_i(10)\n",
    "X_test = np.zeros((len(y_list), 275))\n",
    "for i, (y, sr) in enumerate(zip(y_list, sr_list)):\n",
    "    try:\n",
    "        X_test[i] = mel_feacture_generator(y, sr, n_mfcc = 25)\n",
    "    except:\n",
    "        continue\n",
    "\n",
    "y_test = np.array(class_list).reshape(-1,1)"
   ]
  },
  {
   "cell_type": "code",
   "execution_count": 326,
   "metadata": {},
   "outputs": [],
   "source": [
    "# Multiclass SVM classifier \n",
    "def zeroOne(y,a) :\n",
    "    '''\n",
    "    Computes the zero-one loss.\n",
    "    @param y: output class\n",
    "    @param a: predicted class\n",
    "    @return 1 if different, 0 if same\n",
    "    '''\n",
    "    return int(y != a)\n",
    "\n",
    "def featureMap(X,y,num_classes) :\n",
    "    '''\n",
    "    Computes the class-sensitive features.\n",
    "    @param X: array-like, shape = [n_samples,n_inFeatures] or [n_inFeatures,], input features for input data\n",
    "    @param y: a target class (in range 0,..,num_classes-1)\n",
    "    @return array-like, shape = [n_samples,n_outFeatures], the class sensitive features for class y\n",
    "    '''\n",
    "    #The following line handles X being a 1d-array or a 2d-array\n",
    "    num_samples, num_inFeatures = (1,X.shape[0]) if len(X.shape) == 1 else (X.shape[0],X.shape[1])\n",
    "    #your code goes here, and replaces following return\n",
    "    num_outFeatures = num_classes*num_inFeatures\n",
    "    \n",
    "    if num_samples == 1:\n",
    "        feature_map = np.zeros(num_outFeatures)\n",
    "        feature_map[int(y*num_inFeatures):int((y+1)*num_inFeatures)] = X\n",
    "        return feature_map\n",
    "    else:\n",
    "        feature_mat = np.zeros((num_samples,num_outFeatures))\n",
    "        for i, xi in enumerate(X):\n",
    "            feature_mat[i][y[i]*num_inFeatures:(y[i]+1)*num_inFeatures] = xi\n",
    "        return feature_mat\n",
    "\n",
    "def sgd(X, y, num_outFeatures, subgd, eta = 0.1, T = 10000):\n",
    "    '''\n",
    "    Runs subgradient descent, and outputs resulting parameter vector.\n",
    "    @param X: array-like, shape = [n_samples,n_features], input training data \n",
    "    @param y: array-like, shape = [n_samples,], class labels\n",
    "    @param num_outFeatures: number of class-sensitive features\n",
    "    @param subgd: function taking x,y and giving subgradient of objective\n",
    "    @param eta: learning rate for SGD\n",
    "    @param T: maximum number of iterations\n",
    "    @return: vector of weights\n",
    "    '''\n",
    "    num_samples = X.shape[0]\n",
    "    w = np.zeros(num_outFeatures)\n",
    "    #your code goes here and replaces following return statement\n",
    "    t=1\n",
    "    while(t<=T):\n",
    "        random_indx = np.random.choice(2000)\n",
    "        w -= eta * subgd(X[random_indx], y[random_indx], w)\n",
    "        t += 1\n",
    "    return w"
   ]
  },
  {
   "cell_type": "code",
   "execution_count": 327,
   "metadata": {},
   "outputs": [],
   "source": [
    "# Linear Multiclass SVM\n",
    "class MulticlassSVM(BaseEstimator, ClassifierMixin):\n",
    "    '''\n",
    "    Implements a Multiclass SVM estimator.\n",
    "    '''\n",
    "    def __init__(self, lam=1.0, num_classes=4, Delta=zeroOne, Psi=featureMap):       \n",
    "        '''\n",
    "        Creates a MulticlassSVM estimator.\n",
    "        @param num_outFeatures: number of class-sensitive features produced by Psi\n",
    "        @param lam: l2 regularization parameter\n",
    "        @param num_classes: number of classes (assumed numbered 0,..,num_classes-1)\n",
    "        @param Delta: class-sensitive loss function taking two arguments (i.e., target margin)\n",
    "        @param Psi: class-sensitive feature map taking two arguments\n",
    "        '''\n",
    "        self.lam = lam\n",
    "        self.num_classes = num_classes\n",
    "        self.Delta = Delta\n",
    "        self.Psi = lambda X,y : Psi(X,y,num_classes)\n",
    "        self.fitted = False\n",
    "    \n",
    "    def subgradient(self,x,y,w):\n",
    "        '''\n",
    "        Computes the subgradient at a given data point x,y\n",
    "        @param x: sample input\n",
    "        @param y: sample class\n",
    "        @param w: parameter vector\n",
    "        @return returns subgradient vector at given x,y,w\n",
    "        '''\n",
    "        #Your code goes here and replaces the following return statement\n",
    "        temp_list = []\n",
    "        for yi in range(self.num_classes):\n",
    "            temp_list.append(self.Delta(y,yi)-np.dot(w, self.Psi(x,y)-self.Psi(x,yi)))\n",
    "        y_hat = np.argmax(temp_list)\n",
    "        g = 2*self.lam*w + self.Psi(x,y_hat)-self.Psi(x,y)\n",
    "        return g\n",
    "    \n",
    "    def fit(self,X,y,eta=0.01,T=10000):\n",
    "        '''\n",
    "        Fits multiclass SVM\n",
    "        @param X: array-like, shape = [num_samples,num_inFeatures], input data\n",
    "        @param y: array-like, shape = [num_samples,], input classes\n",
    "        @param eta: learning rate for SGD\n",
    "        @param T: maximum number of iterations\n",
    "        @return returns self\n",
    "        '''\n",
    "        num_outFeatures = X.shape[1] * self.num_classes\n",
    "        self.coef_ = sgd(X,y,num_outFeatures,self.subgradient,eta,T)\n",
    "        self.fitted = True\n",
    "        return self\n",
    "    \n",
    "    def decision_function(self, X):\n",
    "        '''\n",
    "        Returns the score on each input for each class. Assumes\n",
    "        that fit has been called.\n",
    "        @param X : array-like, shape = [n_samples, n_inFeatures]\n",
    "        @return array-like, shape = [n_samples, n_classes] giving scores for each sample,class pairing\n",
    "        '''\n",
    "        if not self.fitted:\n",
    "            raise RuntimeError(\"You must train classifer before predicting data.\")\n",
    "        num_samples = X.shape[0]\n",
    "        #Your code goes here and replaces following return statement\n",
    "        score_matrix = np.zeros((num_samples, self.num_classes))\n",
    "        for i, x_i in enumerate(X):\n",
    "            score_matrix[i,:] = [np.dot(self.coef_, self.Psi(x_i,yi)) for yi in range(self.num_classes)]\n",
    "        return score_matrix\n",
    "    \n",
    "    def predict(self, X):\n",
    "        '''\n",
    "        Predict the class with the highest score.\n",
    "        @param X: array-like, shape = [n_samples, n_inFeatures], input data to predict\n",
    "        @return array-like, shape = [n_samples,], class labels predicted for each data point\n",
    "        '''\n",
    "\n",
    "        #Your code goes here and replaces following return statement\n",
    "        score_matrix = self.decision_function(X)\n",
    "        predicts = np.argmax(score_matrix, axis = 1)\n",
    "        return predicts"
   ]
  },
  {
   "cell_type": "code",
   "execution_count": 328,
   "metadata": {},
   "outputs": [
    {
     "name": "stdout",
     "output_type": "stream",
     "text": [
      "\n",
      "Train set confusion matrix:\n",
      "\n",
      "[[482   0 198   0   0  47 157   0  16   0]\n",
      " [ 40   0 115   0   0   5 204   0  32   0]\n",
      " [ 31   0 358   0   0   0 473   0  38   0]\n",
      " [ 32   0 121   2   0   0 730   0  15   0]\n",
      " [ 51   0 139   1   0  17 582   2 108   0]\n",
      " [424   0 231   0   0  37 193   0  22   0]\n",
      " [  2   0   2   0   0   0 338   0   0   0]\n",
      " [ 98   0 261   1   0  48 478   0  18   0]\n",
      " [120   0 146   0   0  31 211   0 338   0]\n",
      " [ 16   0 322   0   0   6 499   0  57   0]]\n"
     ]
    }
   ],
   "source": [
    "#the following code tests the MulticlassSVM and sgd\n",
    "#will fail if MulticlassSVM is not implemented yet\n",
    "train_est = MulticlassSVM(lam=1, num_classes = 10)\n",
    "train_est.fit(X_train, y_train)\n",
    "\n",
    "from sklearn import metrics\n",
    "print(\"\\nTrain set confusion matrix:\\n\")\n",
    "print(metrics.confusion_matrix(y_train, train_est.predict(X_train)))"
   ]
  },
  {
   "cell_type": "code",
   "execution_count": 329,
   "metadata": {},
   "outputs": [],
   "source": [
    "def cal_accuracy(y_real, y_predict):\n",
    "    '''\n",
    "    Calculating accuracy rate of the model\n",
    "    y_real: 1d-array, real classes of n entry x\n",
    "    y_predict: 1d-array, predicted classes of n entry x\n",
    "    \n",
    "    '''\n",
    "    \n",
    "    corrects = ((y_real==).sum()\n",
    "    return corrects/y_real.shape[0]"
   ]
  },
  {
   "cell_type": "code",
   "execution_count": 368,
   "metadata": {},
   "outputs": [
    {
     "name": "stdout",
     "output_type": "stream",
     "text": [
      "The accuary rate of training set is:\n",
      "0.197\n"
     ]
    }
   ],
   "source": [
    "# Accuracy rate of the linear multiclass SVM\n",
    "print('The accuary rate of training set is:')\n",
    "print(cal_accuracy(y_train.reshape(-1), train_est.predict(X_train)).round(3))"
   ]
  },
  {
   "cell_type": "markdown",
   "metadata": {},
   "source": [
    "## 2. Kernelized multiclass SVM"
   ]
  },
  {
   "cell_type": "markdown",
   "metadata": {},
   "source": [
    "It seems that linear multiclass SVM performs pretty bad in this audio classification task. Next we will try kernelized multiclass SVM to build the model and see whether situation goes better-off."
   ]
  },
  {
   "cell_type": "code",
   "execution_count": null,
   "metadata": {},
   "outputs": [],
   "source": [
    "# one vs all kernel multiclass SVM\n",
    "from sklearn.base import BaseEstimator, ClassifierMixin, clone\n",
    "\n",
    "class OneVsAllClassifier(BaseEstimator, ClassifierMixin):  \n",
    "    \"\"\"\n",
    "    One-vs-all classifier\n",
    "    We assume that the classes will be the integers 0,..,(n_classes-1).\n",
    "    We assume that the estimator provided to the class, after fitting, has a \"decision_function\" that \n",
    "    returns the score for the positive class.\n",
    "    \"\"\"\n",
    "    def __init__(self, estimator, n_classes):      \n",
    "        \"\"\"\n",
    "        Constructed with the number of classes and an estimator (e.g. an\n",
    "        SVM estimator from sklearn)\n",
    "        @param estimator : binary base classifier used\n",
    "        @param n_classes : number of classes\n",
    "        \"\"\"\n",
    "        self.n_classes = n_classes \n",
    "        self.estimators = [clone(estimator) for _ in range(n_classes)]\n",
    "        self.fitted = False\n",
    "\n",
    "    def fit(self, X, y=None):\n",
    "        \"\"\"\n",
    "        This should fit one classifier for each class.\n",
    "        self.estimators[i] should be fit on class i vs rest\n",
    "        @param X: array-like, shape = [n_samples,n_features], input data\n",
    "        @param y: array-like, shape = [n_samples,] class labels\n",
    "        @return returns self\n",
    "        \"\"\"\n",
    "        #Your code goes here\n",
    "        for i in range(len(self.estimators)):\n",
    "            y_list = np.zeros(len(y))\n",
    "            y_list = np.where(y==i, 1, 0)\n",
    "            self.estimators[i].fit(X,y_list)\n",
    "        self.fitted = True\n",
    "        return self\n",
    "        \n",
    "    def decision_function(self, X):\n",
    "        \"\"\"\n",
    "        Returns the score of each input for each class. Assumes\n",
    "        that the given estimator also implements the decision_function method (which sklearn SVMs do), \n",
    "        and that fit has been called.\n",
    "        @param X : array-like, shape = [n_samples, n_features] input data\n",
    "        @return array-like, shape = [n_samples, n_classes]\n",
    "        \"\"\"\n",
    "        if not self.fitted:\n",
    "            raise RuntimeError(\"You must train classifer before predicting data.\")\n",
    "\n",
    "        if not hasattr(self.estimators[0], \"decision_function\"):\n",
    "            raise AttributeError(\n",
    "                \"Base estimator doesn't have a decision_function attribute.\")\n",
    "        \n",
    "        #Replace the following return statement with your code\n",
    "        ret_row = X.shape[0]\n",
    "        ret_col = self.n_classes\n",
    "        ret_mat = np.zeros((ret_row, ret_col))\n",
    "        for i in range(self.n_classes):\n",
    "            ret_mat[:,i] = self.estimators[i].decision_function(X)\n",
    "        return ret_mat\n",
    "    \n",
    "    def predict(self, X):\n",
    "        \"\"\"\n",
    "        Predict the class with the highest score.\n",
    "        @param X: array-like, shape = [n_samples,n_features] input data\n",
    "        @returns array-like, shape = [n_samples,] the predicted classes for each input\n",
    "        \"\"\"\n",
    "        #Replace the following return statement with your code\n",
    "        all_predicts = self.decision_function(X)\n",
    "        predict = np.argmax(all_predicts, axis = 1)\n",
    "        return predict"
   ]
  },
  {
   "cell_type": "code",
   "execution_count": 299,
   "metadata": {},
   "outputs": [],
   "source": [
    "# Kernel function generators\n",
    "def RBF_kernel(X1,X2,sigma):\n",
    "    \"\"\"\n",
    "    Computes the RBF kernel between two sets of vectors   \n",
    "    Args:\n",
    "        X1 - an n1xd matrix with vectors x1_1,...,x1_n1 in the rows\n",
    "        X2 - an n2xd matrix with vectors x2_1,...,x2_n2 in the rows\n",
    "        sigma - the bandwidth (i.e. standard deviation) for the RBF/Gaussian kernel\n",
    "    Returns:\n",
    "        matrix of size n1xn2, with exp(-||x1_i-x2_j||^2/(2 sigma^2)) in position i,j\n",
    "    \"\"\"\n",
    "    #TODO\n",
    "    rbf_kernel = np.zeros(shape = (X1.shape[0],X2.shape[0]))\n",
    "    norm = scipy.spatial.distance.cdist(X1,X2,'sqeuclidean')\n",
    "    rbf_kernel = np.exp(-norm/(2*sigma**2))\n",
    "    return rbf_kernel\n",
    "    \n",
    "def polynomial_kernel(X1, X2, offset, degree):\n",
    "    \"\"\"\n",
    "    Computes the inhomogeneous polynomial kernel between two sets of vectors\n",
    "    Args:\n",
    "        X1 - an n1xd matrix with vectors x1_1,...,x1_n1 in the rows\n",
    "        X2 - an n2xd matrix with vectors x2_1,...,x2_n2 in the rows\n",
    "        offset, degree - two parameters for the kernel\n",
    "    Returns:\n",
    "        matrix of size n1xn2, with (offset + <x1_i,x2_j>)^degree in position i,j\n",
    "    \"\"\"\n",
    "    #TODO\n",
    "    return (offset+linear_kernel(X1,X2))**degree\n"
   ]
  },
  {
   "cell_type": "code",
   "execution_count": 301,
   "metadata": {},
   "outputs": [],
   "source": [
    "# A class for convenient prediction\n",
    "class Kernel_Machine(object):\n",
    "    def __init__(self, kernel, prototype_points, weights):\n",
    "        \"\"\"\n",
    "        Args:\n",
    "            kernel(W,X) - a function return the cross-kernel matrix between rows of W and rows of X for kernel k\n",
    "            prototype_points - an Rxd matrix with rows mu_1,...,mu_R\n",
    "            weights - a vector of length R\n",
    "        \"\"\"\n",
    "\n",
    "        self.kernel = kernel\n",
    "        self.prototype_points = prototype_points\n",
    "        self.weights = weights\n",
    "        \n",
    "    def predict(self, X):\n",
    "        \"\"\"\n",
    "        Evaluates the kernel machine on the points given by the rows of X\n",
    "        Args:\n",
    "            X - an nxd matrix with inputs x_1,...,x_n in the rows\n",
    "        Returns:\n",
    "            Vector of kernel machine evaluations on the n points in X.  Specifically, jth entry of return vector is\n",
    "                Sum_{i=1}^R w_i k(x_j, mu_i)\n",
    "        \"\"\"\n",
    "        cross_kernel_matrix = self.kernel(X, self.prototype_points)\n",
    "        return np.dot(cross_kernel_matrix,self.weights)"
   ]
  },
  {
   "cell_type": "code",
   "execution_count": 302,
   "metadata": {},
   "outputs": [],
   "source": [
    "'''\n",
    "train_soft_svm takes the numpy arrays containing the measurements of x in R^{2 x d} and y in R^d, \n",
    "the kernel, the maximum number of SGD steps T and the regularization parameter Lambda.\n",
    "It returns the corresponding Kernel_Machine.\n",
    "'''\n",
    "def train_soft_svm(X, y, kernel, T, Lambda):\n",
    "    \n",
    "    # sgd_for_soft_svm implements the above-mentioned method from SSBD.\n",
    "    # It takes the numpy arrays containing the measurements y in {-1,+1},\n",
    "    # the kernel K in R^{d x d} the maximum number of steps T and \n",
    "    # the regularization parameter lambda. It returns the coefficients alpha_bar\n",
    "    # of the solution w_bar represented as a linear combination  \n",
    "    def sgd_for_soft_svm (y, K, T, Lambda): \n",
    "        sample_size = len(y)\n",
    "        beta=[] \n",
    "        beta.append(np.zeros(sample_size))\n",
    "        alpha = []\n",
    "    \n",
    "        for t in range(T):\n",
    "            alpha_temp= (beta[t] / (Lambda*(t+1) ))\n",
    "            i = np.random.randint(sample_size)\n",
    "            beta_temp = beta[t]\n",
    "            temp=0\n",
    "            for j in range (sample_size): \n",
    "                temp = temp+ alpha_temp[j]* K[j,i]\n",
    "            if ((y[i]*temp)<1):\n",
    "                beta_temp[i]= beta_temp[i]+y[i]         \n",
    "            beta.append(beta_temp)\n",
    "            alpha.append(alpha_temp)\n",
    "        alpha_bar = 1/T* np.sum(alpha, axis=0)                  \n",
    "        return alpha_bar\n",
    "    \n",
    "    K = kernel(X,X)\n",
    "    alpha= sgd_for_soft_svm (y, K, T, Lambda)\n",
    "    return Kernel_Machine(kernel, X, alpha)"
   ]
  },
  {
   "cell_type": "code",
   "execution_count": 318,
   "metadata": {},
   "outputs": [],
   "source": [
    "from sklearn.base import BaseEstimator, RegressorMixin, ClassifierMixin\n",
    "\n",
    "# Kernel soft SVM class\n",
    "class KernelSoftSVM(BaseEstimator, RegressorMixin):  \n",
    "    \"\"\"sklearn wrapper for our kernel ridge regression\"\"\"\n",
    "     \n",
    "    def __init__(self, kernel=\"linear\", sigma=1, degree=2, offset=1, T = 1000, l2reg=0.2):        \n",
    "        self.kernel = kernel\n",
    "        self.sigma = sigma\n",
    "        self.degree = degree\n",
    "        self.offset = offset\n",
    "        self.l2reg = l2reg \n",
    "        self.T = T\n",
    "\n",
    "    def fit(self, X, y=None):\n",
    "        \"\"\"\n",
    "        This should fit classifier. All the \"work\" should be done here.\n",
    "        \"\"\"\n",
    "        if (self.kernel == \"linear\"):\n",
    "            self.k = linear_kernel\n",
    "        elif (self.kernel == \"RBF\"):\n",
    "            self.k = functools.partial(RBF_kernel, sigma=self.sigma)\n",
    "        elif (self.kernel == \"polynomial\"):\n",
    "            self.k = functools.partial(polynomial_kernel, offset=self.offset, degree=self.degree)\n",
    "        else:\n",
    "            raise ValueError('Unrecognized kernel type requested.')\n",
    "        \n",
    "        self.kernel_machine_ = train_soft_svm(X, y, self.k, self.T, self.l2reg)\n",
    "\n",
    "        return self\n",
    "\n",
    "    def decision_function(self, X, y=None):\n",
    "        try:\n",
    "            getattr(self, \"kernel_machine_\")\n",
    "        except AttributeError:\n",
    "            raise RuntimeError(\"You must train classifer before predicting data!\")\n",
    "\n",
    "        return(self.kernel_machine_.predict(X))\n",
    "        \n",
    "    def score(self, X, y=None):\n",
    "        # get the average square error\n",
    "        return((self.predict(X)-y).mean())"
   ]
  },
  {
   "cell_type": "markdown",
   "metadata": {},
   "source": [
    "### 1) Try the kernel multiclass support vector classfier provided by *sklearn* module"
   ]
  },
  {
   "cell_type": "code",
   "execution_count": 339,
   "metadata": {
    "scrolled": true
   },
   "outputs": [
    {
     "name": "stderr",
     "output_type": "stream",
     "text": [
      "/opt/anaconda3/lib/python3.7/site-packages/sklearn/utils/validation.py:724: DataConversionWarning: A column-vector y was passed when a 1d array was expected. Please change the shape of y to (n_samples, ), for example using ravel().\n",
      "  y = column_or_1d(y, warn=True)\n",
      "/opt/anaconda3/lib/python3.7/site-packages/sklearn/svm/base.py:193: FutureWarning: The default value of gamma will change from 'auto' to 'scale' in version 0.22 to account better for unscaled features. Set gamma explicitly to 'auto' or 'scale' to avoid this warning.\n",
      "  \"avoid this warning.\", FutureWarning)\n",
      "/opt/anaconda3/lib/python3.7/site-packages/sklearn/utils/validation.py:724: DataConversionWarning: A column-vector y was passed when a 1d array was expected. Please change the shape of y to (n_samples, ), for example using ravel().\n",
      "  y = column_or_1d(y, warn=True)\n",
      "/opt/anaconda3/lib/python3.7/site-packages/sklearn/svm/base.py:193: FutureWarning: The default value of gamma will change from 'auto' to 'scale' in version 0.22 to account better for unscaled features. Set gamma explicitly to 'auto' or 'scale' to avoid this warning.\n",
      "  \"avoid this warning.\", FutureWarning)\n",
      "/opt/anaconda3/lib/python3.7/site-packages/sklearn/utils/validation.py:724: DataConversionWarning: A column-vector y was passed when a 1d array was expected. Please change the shape of y to (n_samples, ), for example using ravel().\n",
      "  y = column_or_1d(y, warn=True)\n",
      "/opt/anaconda3/lib/python3.7/site-packages/sklearn/svm/base.py:193: FutureWarning: The default value of gamma will change from 'auto' to 'scale' in version 0.22 to account better for unscaled features. Set gamma explicitly to 'auto' or 'scale' to avoid this warning.\n",
      "  \"avoid this warning.\", FutureWarning)\n",
      "/opt/anaconda3/lib/python3.7/site-packages/sklearn/utils/validation.py:724: DataConversionWarning: A column-vector y was passed when a 1d array was expected. Please change the shape of y to (n_samples, ), for example using ravel().\n",
      "  y = column_or_1d(y, warn=True)\n",
      "/opt/anaconda3/lib/python3.7/site-packages/sklearn/svm/base.py:193: FutureWarning: The default value of gamma will change from 'auto' to 'scale' in version 0.22 to account better for unscaled features. Set gamma explicitly to 'auto' or 'scale' to avoid this warning.\n",
      "  \"avoid this warning.\", FutureWarning)\n",
      "/opt/anaconda3/lib/python3.7/site-packages/sklearn/utils/validation.py:724: DataConversionWarning: A column-vector y was passed when a 1d array was expected. Please change the shape of y to (n_samples, ), for example using ravel().\n",
      "  y = column_or_1d(y, warn=True)\n",
      "/opt/anaconda3/lib/python3.7/site-packages/sklearn/svm/base.py:193: FutureWarning: The default value of gamma will change from 'auto' to 'scale' in version 0.22 to account better for unscaled features. Set gamma explicitly to 'auto' or 'scale' to avoid this warning.\n",
      "  \"avoid this warning.\", FutureWarning)\n",
      "/opt/anaconda3/lib/python3.7/site-packages/sklearn/utils/validation.py:724: DataConversionWarning: A column-vector y was passed when a 1d array was expected. Please change the shape of y to (n_samples, ), for example using ravel().\n",
      "  y = column_or_1d(y, warn=True)\n",
      "/opt/anaconda3/lib/python3.7/site-packages/sklearn/svm/base.py:193: FutureWarning: The default value of gamma will change from 'auto' to 'scale' in version 0.22 to account better for unscaled features. Set gamma explicitly to 'auto' or 'scale' to avoid this warning.\n",
      "  \"avoid this warning.\", FutureWarning)\n",
      "/opt/anaconda3/lib/python3.7/site-packages/sklearn/utils/validation.py:724: DataConversionWarning: A column-vector y was passed when a 1d array was expected. Please change the shape of y to (n_samples, ), for example using ravel().\n",
      "  y = column_or_1d(y, warn=True)\n",
      "/opt/anaconda3/lib/python3.7/site-packages/sklearn/svm/base.py:193: FutureWarning: The default value of gamma will change from 'auto' to 'scale' in version 0.22 to account better for unscaled features. Set gamma explicitly to 'auto' or 'scale' to avoid this warning.\n",
      "  \"avoid this warning.\", FutureWarning)\n",
      "/opt/anaconda3/lib/python3.7/site-packages/sklearn/utils/validation.py:724: DataConversionWarning: A column-vector y was passed when a 1d array was expected. Please change the shape of y to (n_samples, ), for example using ravel().\n",
      "  y = column_or_1d(y, warn=True)\n",
      "/opt/anaconda3/lib/python3.7/site-packages/sklearn/svm/base.py:193: FutureWarning: The default value of gamma will change from 'auto' to 'scale' in version 0.22 to account better for unscaled features. Set gamma explicitly to 'auto' or 'scale' to avoid this warning.\n",
      "  \"avoid this warning.\", FutureWarning)\n",
      "/opt/anaconda3/lib/python3.7/site-packages/sklearn/utils/validation.py:724: DataConversionWarning: A column-vector y was passed when a 1d array was expected. Please change the shape of y to (n_samples, ), for example using ravel().\n",
      "  y = column_or_1d(y, warn=True)\n",
      "/opt/anaconda3/lib/python3.7/site-packages/sklearn/svm/base.py:193: FutureWarning: The default value of gamma will change from 'auto' to 'scale' in version 0.22 to account better for unscaled features. Set gamma explicitly to 'auto' or 'scale' to avoid this warning.\n",
      "  \"avoid this warning.\", FutureWarning)\n",
      "/opt/anaconda3/lib/python3.7/site-packages/sklearn/utils/validation.py:724: DataConversionWarning: A column-vector y was passed when a 1d array was expected. Please change the shape of y to (n_samples, ), for example using ravel().\n",
      "  y = column_or_1d(y, warn=True)\n",
      "/opt/anaconda3/lib/python3.7/site-packages/sklearn/svm/base.py:193: FutureWarning: The default value of gamma will change from 'auto' to 'scale' in version 0.22 to account better for unscaled features. Set gamma explicitly to 'auto' or 'scale' to avoid this warning.\n",
      "  \"avoid this warning.\", FutureWarning)\n"
     ]
    },
    {
     "data": {
      "text/plain": [
       "OneVsAllClassifier(estimator=None, n_classes=10)"
      ]
     },
     "execution_count": 339,
     "metadata": {},
     "output_type": "execute_result"
    }
   ],
   "source": [
    "from sklearn import svm\n",
    "svm_estimator = svm.SVC(kernel = 'rbf', C=10)\n",
    "clf_onevsall = OneVsAllClassifier(svm_estimator, n_classes=10)\n",
    "clf_onevsall.fit(X_train,y_train)"
   ]
  },
  {
   "cell_type": "code",
   "execution_count": 361,
   "metadata": {
    "scrolled": true
   },
   "outputs": [
    {
     "name": "stderr",
     "output_type": "stream",
     "text": [
      "/opt/anaconda3/lib/python3.7/site-packages/sklearn/utils/validation.py:724: DataConversionWarning: A column-vector y was passed when a 1d array was expected. Please change the shape of y to (n_samples, ), for example using ravel().\n",
      "  y = column_or_1d(y, warn=True)\n",
      "/opt/anaconda3/lib/python3.7/site-packages/sklearn/svm/base.py:193: FutureWarning: The default value of gamma will change from 'auto' to 'scale' in version 0.22 to account better for unscaled features. Set gamma explicitly to 'auto' or 'scale' to avoid this warning.\n",
      "  \"avoid this warning.\", FutureWarning)\n"
     ]
    },
    {
     "name": "stdout",
     "output_type": "stream",
     "text": [
      "\n",
      "sklearn SVM: Train set confusion matrix:\n",
      "\n",
      "[[900   0   0   0   0   0   0   0   0   0]\n",
      " [  0 396   0   0   0   0   0   0   0   0]\n",
      " [  0   0 900   0   0   0   0   0   0   0]\n",
      " [  0   3   0 897   0   0   0   0   0   0]\n",
      " [  0   0   0   0 900   0   0   0   0   0]\n",
      " [  0   0   0   0   0 907   0   0   0   0]\n",
      " [  0   2   0   0   0   0 340   0   0   0]\n",
      " [  0   0   0   0   0   0   0 904   0   0]\n",
      " [  0   0   0   0   0   0   0   0 846   0]\n",
      " [  0   0   0   0   0   0   0   0   0 900]]\n"
     ]
    }
   ],
   "source": [
    "svm_estimator.fit(X_train,y_train)\n",
    "y_train_predict = svm_estimator.predict(X_train)\n",
    "print(\"\\nsklearn SVM: Train set confusion matrix:\\n\")\n",
    "print(metrics.confusion_matrix(y_train, y_train_predict))"
   ]
  },
  {
   "cell_type": "code",
   "execution_count": 371,
   "metadata": {},
   "outputs": [
    {
     "name": "stdout",
     "output_type": "stream",
     "text": [
      "Accuracy rate of the sklearn multiclass SVM in traing set:\n",
      "0.999\n"
     ]
    }
   ],
   "source": [
    "# Accuracy rate of sklearn multiclass SVM in traing set\n",
    "print('Accuracy rate of the sklearn multiclass SVM in traing set:')\n",
    "print(cal_accuracy(y_train.reshape(-1), y_train_predict).round(3))"
   ]
  },
  {
   "cell_type": "code",
   "execution_count": 369,
   "metadata": {},
   "outputs": [
    {
     "name": "stdout",
     "output_type": "stream",
     "text": [
      "\n",
      "sklearn SVM: Validation set confusion matrix:\n",
      "\n",
      "[[ 29   0  71   0   0   0   0   0   0   0]\n",
      " [  0   0  33   0   0   0   0   0   0   0]\n",
      " [  0   0 100   0   0   0   0   0   0   0]\n",
      " [  0   0 100   0   0   0   0   0   0   0]\n",
      " [  0   0 100   0   0   0   0   0   0   0]\n",
      " [  0   0  93   0   0   0   0   0   0   0]\n",
      " [  0   0  32   0   0   0   0   0   0   0]\n",
      " [  0   0  96   0   0   0   0   0   0   0]\n",
      " [  0   0  83   0   0   0   0   0   0   0]\n",
      " [  0   0 100   0   0   0   0   0   0   0]]\n"
     ]
    }
   ],
   "source": [
    "y_test_predict = svm_estimator.predict(X_test)\n",
    "print(\"\\nsklearn SVM: Validation set confusion matrix:\\n\")\n",
    "print(metrics.confusion_matrix(y_test, y_test_predict))"
   ]
  },
  {
   "cell_type": "code",
   "execution_count": 372,
   "metadata": {},
   "outputs": [
    {
     "name": "stdout",
     "output_type": "stream",
     "text": [
      "Accuracy rate of the sklearn multiclass SVM in traing set:\n",
      "0.154\n"
     ]
    }
   ],
   "source": [
    "# Accuracy rate of sklearn multiclass SVM in traing set\n",
    "print('Accuracy rate of the sklearn multiclass SVM in traing set:')\n",
    "print(cal_accuracy(y_test.reshape(-1), y_test_predict).round(3))"
   ]
  },
  {
   "cell_type": "markdown",
   "metadata": {},
   "source": [
    "It turns out that sklearn SVM performs pretty good in training set with a nearly 100% percent accuracy. However, the performance on the validation set becomes pretty bad. It causes obvious overfitting. "
   ]
  },
  {
   "cell_type": "markdown",
   "metadata": {},
   "source": [
    "### 2) Try the kernelized multiclass SVM writen by myself"
   ]
  },
  {
   "cell_type": "code",
   "execution_count": 374,
   "metadata": {},
   "outputs": [
    {
     "data": {
      "text/plain": [
       "OneVsAllClassifier(estimator=None, n_classes=10)"
      ]
     },
     "execution_count": 374,
     "metadata": {},
     "output_type": "execute_result"
    }
   ],
   "source": [
    "svm_estimator = KernelSoftSVM(kernel = 'RBF',sigma=1, T = 2000, l2reg=1)\n",
    "clf_onevsall = OneVsAllClassifier(svm_estimator, n_classes=10)\n",
    "clf_onevsall.fit(X_train,y_train)"
   ]
  },
  {
   "cell_type": "code",
   "execution_count": 375,
   "metadata": {
    "scrolled": true
   },
   "outputs": [
    {
     "name": "stdout",
     "output_type": "stream",
     "text": [
      "\n",
      "Train set confusion matrix:\n",
      "\n",
      "[[900   0   0   0   0   0   0   0   0   0]\n",
      " [281 115   0   0   0   0   0   0   0   0]\n",
      " [693   0 207   0   0   0   0   0   0   0]\n",
      " [700   3   0 197   0   0   0   0   0   0]\n",
      " [679   0   0   0 219   0   0   2   0   0]\n",
      " [443   0   0   0   0 464   0   0   0   0]\n",
      " [261   2   0   0   0   0  79   0   0   0]\n",
      " [662   0   0   0   5   0   0 236   0   1]\n",
      " [648   0   0   0   0   0   0   0 198   0]\n",
      " [707   0   0   0   0   0   0   0   0 193]]\n"
     ]
    }
   ],
   "source": [
    "y_train_predict2 = clf_onevsall.predict(X_train)\n",
    "print(\"\\nTrain set confusion matrix:\\n\")\n",
    "print(metrics.confusion_matrix(y_train, y_train_predict2))"
   ]
  },
  {
   "cell_type": "code",
   "execution_count": 378,
   "metadata": {},
   "outputs": [
    {
     "name": "stdout",
     "output_type": "stream",
     "text": [
      "Accuracy rate of the my kernel multiclass SVM in traing set:\n",
      "0.356\n"
     ]
    }
   ],
   "source": [
    "# Accuracy rate of sklearn multiclass SVM in traing set\n",
    "print('Accuracy rate of the my kernel multiclass SVM in traing set:')\n",
    "print(cal_accuracy(y_train.reshape(-1), y_train_preidict2).round(3))"
   ]
  },
  {
   "cell_type": "markdown",
   "metadata": {},
   "source": [
    "### 3) Parameter adjustment"
   ]
  },
  {
   "cell_type": "markdown",
   "metadata": {},
   "source": [
    "Due to the long running time for each adjustment, I only tried very limited range of parameter adjustment. "
   ]
  },
  {
   "cell_type": "code",
   "execution_count": 386,
   "metadata": {},
   "outputs": [
    {
     "name": "stdout",
     "output_type": "stream",
     "text": [
      "Accuracy rate in training set(sigma = 0.1):\n",
      "0.312\n",
      "Accuracy rate in validation set(sigma = 0.1):\n",
      "0.119\n",
      "--------------------------------------------------\n",
      "Accuracy rate in training set(sigma = 1):\n",
      "0.362\n",
      "Accuracy rate in validation set(sigma = 1):\n",
      "0.119\n",
      "--------------------------------------------------\n",
      "Accuracy rate in training set(sigma = 10):\n",
      "0.645\n",
      "Accuracy rate in validation set(sigma = 10):\n",
      "0.281\n",
      "--------------------------------------------------\n",
      "Accuracy rate in training set(sigma = 100):\n",
      "0.608\n",
      "Accuracy rate in validation set(sigma = 100):\n",
      "0.4\n",
      "--------------------------------------------------\n",
      "Accuracy rate in training set(sigma = 1000):\n",
      "0.249\n",
      "Accuracy rate in validation set(sigma = 1000):\n",
      "0.27\n",
      "--------------------------------------------------\n"
     ]
    }
   ],
   "source": [
    "# Find the best sigma\n",
    "y_train_predict_list = []\n",
    "y_test_predict_list = []\n",
    "for sigma in range(-1,4):\n",
    "    svm_estimatori = KernelSoftSVM(kernel = 'RBF',sigma=10**sigma, T = 2000, l2reg=1)\n",
    "    clf_onevsalli = OneVsAllClassifier(svm_estimatori, n_classes=10)\n",
    "    clf_onevsalli.fit(X_train,y_train)\n",
    "    y_train_predicti = clf_onevsalli.predict(X_train)\n",
    "    y_test_predicti = clf_onevsalli.predict(X_test)\n",
    "    y_train_predict_list.append(y_train_predicti)\n",
    "    y_test_predict_list.append(y_test_predicti)\n",
    "    print('Accuracy rate in training set(sigma = {}):'.format(10**sigma))\n",
    "    print(cal_accuracy(y_train.reshape(-1), y_train_predicti).round(3))\n",
    "    print('Accuracy rate in validation set(sigma = {}):'.format(10**sigma))\n",
    "    print(cal_accuracy(y_test.reshape(-1), y_test_predicti).round(3))\n",
    "    print('--------------------------------------------------')"
   ]
  },
  {
   "cell_type": "code",
   "execution_count": 393,
   "metadata": {},
   "outputs": [
    {
     "name": "stdout",
     "output_type": "stream",
     "text": [
      "Accuracy rate in training set(l2reg = 0.5):\n",
      "0.589\n",
      "Accuracy rate in validation set(l2reg = 0.5):\n",
      "0.436\n",
      "--------------------------------------------------\n",
      "Accuracy rate in training set(l2reg = 1):\n",
      "0.605\n",
      "Accuracy rate in validation set(l2reg = 1):\n",
      "0.41\n",
      "--------------------------------------------------\n",
      "Accuracy rate in training set(l2reg = 5):\n",
      "0.616\n",
      "Accuracy rate in validation set(l2reg = 5):\n",
      "0.399\n",
      "--------------------------------------------------\n",
      "Accuracy rate in training set(l2reg = 10):\n",
      "0.607\n",
      "Accuracy rate in validation set(l2reg = 10):\n",
      "0.461\n",
      "--------------------------------------------------\n",
      "Accuracy rate in training set(l2reg = 20):\n",
      "0.603\n",
      "Accuracy rate in validation set(l2reg = 20):\n",
      "0.416\n",
      "--------------------------------------------------\n"
     ]
    }
   ],
   "source": [
    "# Find the best l2reg\n",
    "y_train_predict_list_l = []\n",
    "y_test_predict_list_l = []\n",
    "for l2reg in [0.5,1,5,10,20]:\n",
    "    svm_estimatorj = KernelSoftSVM(kernel = 'RBF',sigma=100, T = 2000, l2reg=l2reg)\n",
    "    clf_onevsallj = OneVsAllClassifier(svm_estimatorj, n_classes=10)\n",
    "    clf_onevsallj.fit(X_train,y_train)\n",
    "    y_train_predictj = clf_onevsallj.predict(X_train)\n",
    "    y_test_predictj = clf_onevsallj.predict(X_test)\n",
    "    y_train_predict_list_l.append(y_train_predictj)\n",
    "    y_test_predict_list_l.append(y_test_predictj)\n",
    "    print('Accuracy rate in training set(l2reg = {}):'.format(l2reg))\n",
    "    print(cal_accuracy(y_train.reshape(-1), y_train_predictj).round(3))\n",
    "    print('Accuracy rate in validation set(l2reg = {}):'.format(l2reg))\n",
    "    print(cal_accuracy(y_test.reshape(-1), y_test_predictj).round(3))\n",
    "    print('--------------------------------------------------')"
   ]
  },
  {
   "cell_type": "markdown",
   "metadata": {},
   "source": [
    "In this case, we will choose the set of parameters with the highest accuarcy rate in test set.\n",
    "\n",
    "Because both the single kernel SVM and the multiclass kernel SVM use Stochastic Gradient Decent (SGD), the number of iteration do relate to the final result. Finally let's try whether increasing the number of iteration would help with getting a better result."
   ]
  },
  {
   "cell_type": "code",
   "execution_count": 395,
   "metadata": {},
   "outputs": [
    {
     "name": "stdout",
     "output_type": "stream",
     "text": [
      "Accuracy rate in training set(More iteration):\n",
      "0.681\n",
      "Accuracy rate in validation set(More iteration):\n",
      "0.467\n"
     ]
    }
   ],
   "source": [
    "svm_estimatork = KernelSoftSVM(kernel = 'RBF',sigma=100, T = 5000, l2reg=10)\n",
    "clf_onevsallk = OneVsAllClassifier(svm_estimatork, n_classes=10)\n",
    "clf_onevsallk.fit(X_train,y_train)\n",
    "y_train_predictk = clf_onevsallk.predict(X_train)\n",
    "y_test_predictk = clf_onevsallk.predict(X_test)\n",
    "print('Accuracy rate in training set(More iteration):')\n",
    "print(cal_accuracy(y_train.reshape(-1), y_train_predictk).round(3))\n",
    "print('Accuracy rate in validation set(More iteration):')\n",
    "print(cal_accuracy(y_test.reshape(-1), y_test_predictk).round(3))"
   ]
  },
  {
   "cell_type": "markdown",
   "metadata": {},
   "source": [
    "Both accuarcte rates of train and validation set are improved to some extent. Because our main goal is to find the possible way to build the urban sound classification model, our parameter tuning ends here though there is still a large space for us to adjust. We regard 'sigma = 100' and 'l2reg = 10' as our final parameters. "
   ]
  },
  {
   "cell_type": "markdown",
   "metadata": {},
   "source": [
    "### 4) Present final outcome"
   ]
  },
  {
   "cell_type": "markdown",
   "metadata": {},
   "source": [
    "I will present the final outcome in the next section."
   ]
  },
  {
   "cell_type": "code",
   "execution_count": 403,
   "metadata": {
    "scrolled": true
   },
   "outputs": [
    {
     "name": "stdout",
     "output_type": "stream",
     "text": [
      "\n",
      "Training set confusion matrix:\n",
      "\n",
      "[[602   2   6   2   5 174   0  65   2  42]\n",
      " [ 26  95  14   7  28  40  10 106   2  68]\n",
      " [ 24   2 554  32  18  48   5  27  12 178]\n",
      " [ 24   3  77 624  20  35  35  10   7  65]\n",
      " [ 52   5   4  10 506  32  15 236   1  39]\n",
      " [ 83   2   2   2   3 656   2 106   1  50]\n",
      " [  1   0   4  18  21   2 287   3   0   6]\n",
      " [ 56   2   2   2  25  17   2 781   0  17]\n",
      " [ 29   2  29  10   2  79   2  42 581  70]\n",
      " [ 12   1  54   4  12  39   2  75  12 689]]\n"
     ]
    }
   ],
   "source": [
    "# Confusion matrix for training set\n",
    "print(\"\\nTraining set confusion matrix:\\n\")\n",
    "print(metrics.confusion_matrix(y_train, y_train_predictk))"
   ]
  },
  {
   "cell_type": "code",
   "execution_count": 400,
   "metadata": {},
   "outputs": [],
   "source": [
    "# Calculate accurate rate for each class\n",
    "def accuracy_for_classes(confusion_matrix):\n",
    "    confusion_matrix = np.array(confusion_matrix)\n",
    "    num_each_class = np.sum(confusion_matrix, axis = 1)\n",
    "    correct_each_class = np.zeros(confusion_matrix.shape[0])\n",
    "    for i in range(confusion_matrix.shape[0]):\n",
    "        correct_each_class[i] = confusion_matrix[i,i]\n",
    "    accuracy_each_class = correct_each_class/num_each_class\n",
    "    return accuracy_each_class       "
   ]
  },
  {
   "cell_type": "code",
   "execution_count": 437,
   "metadata": {},
   "outputs": [
    {
     "data": {
      "image/png": "[encoded data removed]",
      "text/plain": [
       "<Figure size 864x288 with 1 Axes>"
      ]
     },
     "metadata": {
      "needs_background": "light"
     },
     "output_type": "display_data"
    }
   ],
   "source": [
    "# present accuarte rate of different sound classes in training set\n",
    "accuracy_each_class1 = accuracy_for_classes(metrics.confusion_matrix(y_train, y_train_predictk))\n",
    "accuracy_each_class2 = accuracy_for_classes(metrics.confusion_matrix(y_test, y_test_predictk))\n",
    "classes = ['air conditioner', 'car horn', 'children playing', 'dog bark', 'drilling',\n",
    "         'enginge idling', 'gun shot', 'jackhammer', 'siren', 'street_music']\n",
    "\n",
    "fig = plt.figure(figsize=(12,4))\n",
    "plt.bar(range(10), accuracy_each_class1, width=1/4, tick_label = classes, label = \"train\")\n",
    "plt.bar(np.arange(10)+1/4, accuracy_each_class2, width=1/4, label = \"test\")\n",
    "plt.xticks(np.arange(10)+1/8,rotation=-15)\n",
    "plt.title(\"Accuarte Rate of Different Sound Classes in Training Set\")\n",
    "plt.xlabel(\"Class of Urban Sound\")\n",
    "plt.ylabel(\"Accuarte Rate\")\n",
    "plt.legend(loc='best')\n",
    "plt.show()"
   ]
  },
  {
   "cell_type": "markdown",
   "metadata": {},
   "source": [
    "According to the results, we can find that sounds which is short and sharp like dog bark and gun shot are relatively easier to discriminate, compared with more gentle and persistent sounds.\n",
    "\n",
    "The final outcome shows that there is a clear gap between the accuarcy of train set and test set. It is possible to train the model to fit train set perfectly, accualy I have done it by sklearn SVM. But it would cause extreme overfitting and is unacceptable. Together with the reason that I want to test my understanding on the theories and algorithoms, I write the kernelized multiclass SVM from scratch. \n",
    "\n",
    "Due to my limited computer performance, I just do little parameter adjustment. In the future, if possible, we can use **SearchGrid** function to help with seeking the best parameter combinations. Also, as suggested by the data source, we should do the same training ten times, while in each time we set a different folder of data as validation set. Then we calculate the average accuracy to evaluate our model. Definately, there are still many works that could be done with this project. Will update this notebook in the future!"
   ]
  }
 ],
 "metadata": {
  "kernelspec": {
   "display_name": "Python 3",
   "language": "python",
   "name": "python3"
  },
  "language_info": {
   "codemirror_mode": {
    "name": "ipython",
    "version": 3
   },
   "file_extension": ".py",
   "mimetype": "text/x-python",
   "name": "python",
   "nbconvert_exporter": "python",
   "pygments_lexer": "ipython3",
   "version": "3.7.4"
  }
 },
 "nbformat": 4,
 "nbformat_minor": 2
}
